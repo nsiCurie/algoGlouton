{
 "cells": [
  {
   "cell_type": "markdown",
   "metadata": {},
   "source": [
    "# Algorithme tri dichotomique\n",
    "## 1. Génération d'un tableau pour les tests\n",
    "### Création d'un tableau contenant 100 nombres entre 0 et 1000"
   ]
  },
  {
   "cell_type": "code",
   "execution_count": 1,
   "metadata": {},
   "outputs": [],
   "source": [
    "import random\n",
    "from math import floor\n",
    "# création d'un tableau contenant les éléments 0 à 1000\n",
    "tab=[x for x in range(0,1001)]\n",
    "# création d'un tableau contenant 100 éléments tirés au hasard\n",
    "tableau=[]\n",
    "while len(tableau)<100:\n",
    "    tableau.append(tab.pop(floor(len(tab)*random.random())))\n",
    "# tri du tableau    \n",
    "tableau.sort()    "
   ]
  },
  {
   "cell_type": "code",
   "execution_count": 2,
   "metadata": {},
   "outputs": [
    {
     "name": "stdout",
     "output_type": "stream",
     "text": [
      "[9, 13, 32, 49, 56, 66, 67, 68, 74, 87, 92, 107, 136, 139, 142, 167, 183, 184, 185, 188, 198, 199, 205, 209, 217, 220, 221, 234, 247, 255, 266, 282, 289, 297, 309, 315, 324, 329, 339, 347, 348, 365, 368, 375, 383, 416, 418, 419, 431, 444, 447, 453, 459, 463, 469, 492, 502, 542, 545, 552, 557, 558, 561, 565, 575, 588, 596, 598, 631, 651, 686, 694, 705, 710, 733, 738, 745, 769, 781, 798, 801, 805, 814, 822, 824, 825, 829, 834, 844, 860, 866, 879, 918, 925, 948, 957, 961, 964, 985, 1000]\n"
     ]
    }
   ],
   "source": [
    "print(tableau)"
   ]
  },
  {
   "cell_type": "markdown",
   "metadata": {},
   "source": [
    "## 2. Algorithme itératif\n",
    "### a. le code python"
   ]
  },
  {
   "cell_type": "code",
   "execution_count": 3,
   "metadata": {},
   "outputs": [],
   "source": [
    "def chercheDicho(v,t):\n",
    "    debut=0\n",
    "    fin=len(t)-1\n",
    "    trouve=False\n",
    "    while trouve!=True and debut<=fin:\n",
    "        mil=(debut+fin)//2\n",
    "        if t[mil]==v:\n",
    "            trouve=True\n",
    "        else:\n",
    "            if v>t[mil]:\n",
    "                debut=mil+1\n",
    "            else:\n",
    "                fin=mil-1\n",
    "    if trouve:\n",
    "        return mil\n",
    "    else:\n",
    "        return -1\n"
   ]
  },
  {
   "cell_type": "markdown",
   "metadata": {},
   "source": [
    "### b.Valeurs présentes"
   ]
  },
  {
   "cell_type": "code",
   "execution_count": 4,
   "metadata": {},
   "outputs": [
    {
     "name": "stdout",
     "output_type": "stream",
     "text": [
      "11\n"
     ]
    }
   ],
   "source": [
    "print(chercheDicho(107,tableau))"
   ]
  },
  {
   "cell_type": "code",
   "execution_count": 5,
   "metadata": {},
   "outputs": [
    {
     "name": "stdout",
     "output_type": "stream",
     "text": [
      "92\n"
     ]
    }
   ],
   "source": [
    "print(chercheDicho(918,tableau))"
   ]
  },
  {
   "cell_type": "markdown",
   "metadata": {},
   "source": [
    "###  c.Valeur absente"
   ]
  },
  {
   "cell_type": "code",
   "execution_count": 6,
   "metadata": {},
   "outputs": [
    {
     "name": "stdout",
     "output_type": "stream",
     "text": [
      "-1\n"
     ]
    }
   ],
   "source": [
    "print(chercheDicho(503,tableau))"
   ]
  },
  {
   "cell_type": "markdown",
   "metadata": {},
   "source": [
    "## 3.Algorithme récursif\n",
    "### a. le code python"
   ]
  },
  {
   "cell_type": "code",
   "execution_count": 7,
   "metadata": {},
   "outputs": [],
   "source": [
    "def chercheDichoRecursif(v,t):\n",
    "    if len(t)>0:\n",
    "        m=len(t)//2\n",
    "        if t[m]==v:\n",
    "            return m\n",
    "        if t[m]>v:\n",
    "            #print(t[:m-1])\n",
    "            return chercheDichoRecursif(v,t[:m])\n",
    "        else:\n",
    "            #print(t[m+1:])\n",
    "            return m + chercheDichoRecursif(v,t[m:])\n",
    "    else:\n",
    "        return -1"
   ]
  },
  {
   "cell_type": "markdown",
   "metadata": {},
   "source": [
    "### b. valeurs présentes"
   ]
  },
  {
   "cell_type": "code",
   "execution_count": 8,
   "metadata": {},
   "outputs": [
    {
     "name": "stdout",
     "output_type": "stream",
     "text": [
      "11\n"
     ]
    }
   ],
   "source": [
    "print(chercheDichoRecursif(107,tableau))"
   ]
  },
  {
   "cell_type": "code",
   "execution_count": 9,
   "metadata": {},
   "outputs": [
    {
     "name": "stdout",
     "output_type": "stream",
     "text": [
      "92\n"
     ]
    }
   ],
   "source": [
    "print(chercheDichoRecursif(918,tableau))"
   ]
  },
  {
   "cell_type": "markdown",
   "metadata": {},
   "source": [
    "### c.valeur absente"
   ]
  },
  {
   "cell_type": "code",
   "execution_count": 10,
   "metadata": {},
   "outputs": [
    {
     "name": "stdout",
     "output_type": "stream",
     "text": [
      "-1\n"
     ]
    }
   ],
   "source": [
    "print(chercheDicho(503,tableau))"
   ]
  }
 ],
 "metadata": {
  "kernelspec": {
   "display_name": "Python 3",
   "language": "python",
   "name": "python3"
  },
  "language_info": {
   "codemirror_mode": {
    "name": "ipython",
    "version": 3
   },
   "file_extension": ".py",
   "mimetype": "text/x-python",
   "name": "python",
   "nbconvert_exporter": "python",
   "pygments_lexer": "ipython3",
   "version": "3.7.1"
  }
 },
 "nbformat": 4,
 "nbformat_minor": 2
}
