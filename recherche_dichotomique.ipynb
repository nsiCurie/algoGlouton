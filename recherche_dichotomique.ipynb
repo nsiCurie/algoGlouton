{
 "cells": [
  {
   "cell_type": "markdown",
   "metadata": {},
   "source": [
    "# Algorithme tri dichotomique\n",
    "## 1. Génération d'un tableau pour les tests\n",
    "### Création d'un tableau contenant 100 nombres entre 0 et 1000"
   ]
  },
  {
   "cell_type": "code",
   "execution_count": 1,
   "metadata": {},
   "outputs": [],
   "source": [
    "import random\n",
    "from math import floor\n",
    "# création d'un tableau contenant les éléments 0 à 1000\n",
    "tab=[x for x in range(0,1001)]\n",
    "# création d'un tableau contenant 100 éléments tirés au hasard\n",
    "tableau=[]\n",
    "while len(tableau)<100:\n",
    "    tableau.append(tab.pop(floor(len(tab)*random.random())))\n",
    "# tri du tableau    \n",
    "tableau.sort()    "
   ]
  },
  {
   "cell_type": "code",
   "execution_count": 2,
   "metadata": {},
   "outputs": [
    {
     "name": "stdout",
     "output_type": "stream",
     "text": [
      "[10, 33, 72, 77, 88, 93, 103, 121, 125, 152, 153, 155, 166, 183, 185, 191, 206, 236, 251, 260, 267, 271, 272, 276, 277, 303, 304, 334, 342, 349, 351, 353, 383, 386, 394, 404, 407, 413, 415, 442, 465, 496, 505, 508, 510, 511, 542, 553, 566, 584, 586, 595, 596, 598, 599, 600, 615, 621, 622, 630, 645, 650, 671, 672, 693, 695, 696, 705, 707, 716, 723, 729, 730, 733, 736, 738, 745, 746, 753, 754, 764, 777, 781, 788, 795, 808, 811, 840, 841, 844, 868, 900, 910, 923, 950, 962, 977, 979, 982, 984]\n"
     ]
    }
   ],
   "source": [
    "print(tableau)"
   ]
  },
  {
   "cell_type": "markdown",
   "metadata": {},
   "source": [
    "## 2. Algorithme itératif\n",
    "### a. le code python"
   ]
  },
  {
   "cell_type": "code",
   "execution_count": 3,
   "metadata": {},
   "outputs": [],
   "source": [
    "def chercheDicho(v,t):\n",
    "    debut=0\n",
    "    fin=len(t)-1\n",
    "    trouve=False\n",
    "    while trouve!=True and debut<=fin:\n",
    "        mil=(debut+fin)//2\n",
    "        if t[mil]==v:\n",
    "            trouve=True\n",
    "        else:\n",
    "            if v>t[mil]:\n",
    "                debut=mil+1\n",
    "            else:\n",
    "                fin=mil-1\n",
    "    if trouve:\n",
    "        return mil\n",
    "    else:\n",
    "        return -1\n"
   ]
  },
  {
   "cell_type": "markdown",
   "metadata": {},
   "source": [
    "### b.Valeurs présentes"
   ]
  },
  {
   "cell_type": "code",
   "execution_count": 4,
   "metadata": {},
   "outputs": [
    {
     "name": "stdout",
     "output_type": "stream",
     "text": [
      "3\n"
     ]
    }
   ],
   "source": [
    "print(chercheDicho(77,tableau))"
   ]
  },
  {
   "cell_type": "code",
   "execution_count": 5,
   "metadata": {},
   "outputs": [
    {
     "name": "stdout",
     "output_type": "stream",
     "text": [
      "98\n"
     ]
    }
   ],
   "source": [
    "print(chercheDicho(982,tableau))"
   ]
  },
  {
   "cell_type": "markdown",
   "metadata": {},
   "source": [
    "###  c.Valeur absente"
   ]
  },
  {
   "cell_type": "code",
   "execution_count": 6,
   "metadata": {},
   "outputs": [
    {
     "name": "stdout",
     "output_type": "stream",
     "text": [
      "-1\n"
     ]
    }
   ],
   "source": [
    "print(chercheDicho(75,tableau))"
   ]
  },
  {
   "cell_type": "code",
   "execution_count": 7,
   "metadata": {},
   "outputs": [
    {
     "name": "stdout",
     "output_type": "stream",
     "text": [
      "-1\n"
     ]
    }
   ],
   "source": [
    "print(chercheDicho(980,tableau))"
   ]
  },
  {
   "cell_type": "markdown",
   "metadata": {},
   "source": [
    "## 3.Algorithme récursif (hors programme)\n",
    "### a. le code python"
   ]
  },
  {
   "cell_type": "code",
   "execution_count": 8,
   "metadata": {},
   "outputs": [],
   "source": [
    "def chercheDichoRecursif(v,t):\n",
    "    def dicho(mini,maxi):\n",
    "        if mini>maxi:return -1\n",
    "        m=(mini+maxi)//2\n",
    "        if t[m]==v:\n",
    "            return m\n",
    "        elif v<t[m]:\n",
    "            #print(t[:m-1])\n",
    "            return dicho(mini,m-1)\n",
    "        else:\n",
    "            #print(t[m+1:])\n",
    "            return dicho(m+1,maxi)\n",
    "    return dicho(0,len(t)-1)"
   ]
  },
  {
   "cell_type": "markdown",
   "metadata": {},
   "source": [
    "### b. valeurs présentes"
   ]
  },
  {
   "cell_type": "code",
   "execution_count": 9,
   "metadata": {},
   "outputs": [
    {
     "name": "stdout",
     "output_type": "stream",
     "text": [
      "3\n"
     ]
    }
   ],
   "source": [
    "print(chercheDichoRecursif(77,tableau))"
   ]
  },
  {
   "cell_type": "code",
   "execution_count": 10,
   "metadata": {},
   "outputs": [
    {
     "name": "stdout",
     "output_type": "stream",
     "text": [
      "98\n"
     ]
    }
   ],
   "source": [
    "print(chercheDichoRecursif(982,tableau))"
   ]
  },
  {
   "cell_type": "markdown",
   "metadata": {},
   "source": [
    "### c.valeurs absentes"
   ]
  },
  {
   "cell_type": "code",
   "execution_count": 11,
   "metadata": {},
   "outputs": [
    {
     "name": "stdout",
     "output_type": "stream",
     "text": [
      "-1\n"
     ]
    }
   ],
   "source": [
    "print(chercheDichoRecursif(75,tableau))"
   ]
  },
  {
   "cell_type": "code",
   "execution_count": 12,
   "metadata": {},
   "outputs": [
    {
     "name": "stdout",
     "output_type": "stream",
     "text": [
      "-1\n"
     ]
    }
   ],
   "source": [
    "print(chercheDichoRecursif(980,tableau))"
   ]
  },
  {
   "cell_type": "markdown",
   "metadata": {},
   "source": [
    "# Test de toutes les valeurs entre 0 et 1000\n",
    "Les tests renvoient les nombres présents dans le tableau ainsi que leur rang (l'indice du tableau correspondant)\n",
    "## 1. méthode itérative"
   ]
  },
  {
   "cell_type": "code",
   "execution_count": 13,
   "metadata": {},
   "outputs": [
    {
     "name": "stdout",
     "output_type": "stream",
     "text": [
      "['10:0', '33:1', '72:2', '77:3', '88:4', '93:5', '103:6', '121:7', '125:8', '152:9', '153:10', '155:11', '166:12', '183:13', '185:14', '191:15', '206:16', '236:17', '251:18', '260:19', '267:20', '271:21', '272:22', '276:23', '277:24', '303:25', '304:26', '334:27', '342:28', '349:29', '351:30', '353:31', '383:32', '386:33', '394:34', '404:35', '407:36', '413:37', '415:38', '442:39', '465:40', '496:41', '505:42', '508:43', '510:44', '511:45', '542:46', '553:47', '566:48', '584:49', '586:50', '595:51', '596:52', '598:53', '599:54', '600:55', '615:56', '621:57', '622:58', '630:59', '645:60', '650:61', '671:62', '672:63', '693:64', '695:65', '696:66', '705:67', '707:68', '716:69', '723:70', '729:71', '730:72', '733:73', '736:74', '738:75', '745:76', '746:77', '753:78', '754:79', '764:80', '777:81', '781:82', '788:83', '795:84', '808:85', '811:86', '840:87', '841:88', '844:89', '868:90', '900:91', '910:92', '923:93', '950:94', '962:95', '977:96', '979:97', '982:98', '984:99']\n"
     ]
    }
   ],
   "source": [
    "tabindex=[]\n",
    "for i in range(0,1001):\n",
    "    rang=chercheDicho(i,tableau)\n",
    "    if rang>-1:\n",
    "        tabindex.append(str(i)+\":\"+str(rang))\n",
    "                    \n",
    "print(tabindex)"
   ]
  },
  {
   "cell_type": "markdown",
   "metadata": {},
   "source": [
    "## 2. méthode récursive"
   ]
  },
  {
   "cell_type": "code",
   "execution_count": 14,
   "metadata": {},
   "outputs": [
    {
     "name": "stdout",
     "output_type": "stream",
     "text": [
      "['10:0', '33:1', '72:2', '77:3', '88:4', '93:5', '103:6', '121:7', '125:8', '152:9', '153:10', '155:11', '166:12', '183:13', '185:14', '191:15', '206:16', '236:17', '251:18', '260:19', '267:20', '271:21', '272:22', '276:23', '277:24', '303:25', '304:26', '334:27', '342:28', '349:29', '351:30', '353:31', '383:32', '386:33', '394:34', '404:35', '407:36', '413:37', '415:38', '442:39', '465:40', '496:41', '505:42', '508:43', '510:44', '511:45', '542:46', '553:47', '566:48', '584:49', '586:50', '595:51', '596:52', '598:53', '599:54', '600:55', '615:56', '621:57', '622:58', '630:59', '645:60', '650:61', '671:62', '672:63', '693:64', '695:65', '696:66', '705:67', '707:68', '716:69', '723:70', '729:71', '730:72', '733:73', '736:74', '738:75', '745:76', '746:77', '753:78', '754:79', '764:80', '777:81', '781:82', '788:83', '795:84', '808:85', '811:86', '840:87', '841:88', '844:89', '868:90', '900:91', '910:92', '923:93', '950:94', '962:95', '977:96', '979:97', '982:98', '984:99']\n"
     ]
    }
   ],
   "source": [
    "tabindex=[]\n",
    "for i in range(0,1001):\n",
    "    rang=chercheDichoRecursif(i,tableau)\n",
    "    if rang>-1:\n",
    "        tabindex.append(str(i)+\":\"+str(rang))\n",
    "                    \n",
    "print(tabindex)"
   ]
  },
  {
   "cell_type": "code",
   "execution_count": null,
   "metadata": {},
   "outputs": [],
   "source": []
  }
 ],
 "metadata": {
  "kernelspec": {
   "display_name": "Python 3",
   "language": "python",
   "name": "python3"
  },
  "language_info": {
   "codemirror_mode": {
    "name": "ipython",
    "version": 3
   },
   "file_extension": ".py",
   "mimetype": "text/x-python",
   "name": "python",
   "nbconvert_exporter": "python",
   "pygments_lexer": "ipython3",
   "version": "3.7.1"
  }
 },
 "nbformat": 4,
 "nbformat_minor": 2
}
