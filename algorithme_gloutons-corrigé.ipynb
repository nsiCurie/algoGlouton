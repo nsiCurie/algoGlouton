{
 "cells": [
  {
   "cell_type": "markdown",
   "metadata": {},
   "source": [
    "# Algorithmes gloutons\n",
    "## 1 . rendu de monnaie"
   ]
  },
  {
   "cell_type": "code",
   "execution_count": 1,
   "metadata": {},
   "outputs": [],
   "source": [
    "liste_monnaie=[200,100,50,20,10,5,2,1]\n",
    "def rendu_monnaie(somme,lp):\n",
    "    liste_pieces_a_rendre = []\n",
    "    nb_piece=0\n",
    "    for piece in lp:                 #pour chacune des pièces de la liste\n",
    "        nb_piece = somme // piece    #quotient de la division : donne le nombre de pièce de ce type qu'on peut rendre\n",
    "        somme = somme % piece        #reste de la division : la monnaie pas rendu après avoir traitée cette pièce\n",
    "        for i in range(nb_piece):\n",
    "            liste_pieces_a_rendre.append(piece) \n",
    "    return(liste_pieces_a_rendre)"
   ]
  },
  {
   "cell_type": "code",
   "execution_count": 2,
   "metadata": {},
   "outputs": [
    {
     "name": "stdout",
     "output_type": "stream",
     "text": [
      "[100, 50]\n"
     ]
    }
   ],
   "source": [
    "print(rendu_monnaie(150,liste_monnaie))"
   ]
  },
  {
   "cell_type": "code",
   "execution_count": 3,
   "metadata": {},
   "outputs": [
    {
     "name": "stdout",
     "output_type": "stream",
     "text": [
      "[200, 100, 50, 20, 10, 5, 2, 1]\n"
     ]
    }
   ],
   "source": [
    "print(rendu_monnaie(388,liste_monnaie))"
   ]
  },
  {
   "cell_type": "markdown",
   "metadata": {},
   "source": [
    "## 2. problème du sac à dos\n",
    "### a. structure de donnée"
   ]
  },
  {
   "cell_type": "code",
   "execution_count": 4,
   "metadata": {},
   "outputs": [
    {
     "name": "stdout",
     "output_type": "stream",
     "text": [
      "[['lingot', 10, 1], ['Imac', 3, 6], ['smartTV', 4, 8], ['masque', 3, 1]]\n"
     ]
    }
   ],
   "source": [
    "# structure de données\n",
    "# chaque objet sera un tableau [nom,valeur,masse]\n",
    "# la liste des objets sera une liste d'objet\n",
    "liste_objets=[\n",
    "        [\"lingot\",10,1],\n",
    "        [\"Imac\",3,6],\n",
    "        [\"smartTV\",4,8],\n",
    "        [\"masque\",3,1]\n",
    "]\n",
    "print(liste_objets)"
   ]
  },
  {
   "cell_type": "markdown",
   "metadata": {},
   "source": [
    "### b.première stratégie"
   ]
  },
  {
   "cell_type": "markdown",
   "metadata": {},
   "source": [
    "<div style=\"font-size:1.3em\">\n",
    "Dans l'algorithme, il faut trier les objets par valeurs. Ce n'était pas demandé dans l'exercice, on pouvait le faire manuellement. <br>Mais on peut le faire facilement avec la fonction tri_sur_valeur ci-dessous.\n",
    "<br><br>   <u>Explication</u><br><br>\n",
    "liste.sort : tri la liste en place, c'est-à-dire que la liste est modifiée.\n",
    "<ul>    \n",
    "<li>key indique sur quelle clé trier </li>\n",
    "<li>lambda est une fonction anonyme (sans nom) <br>\n",
    "     celle définie ici est équivalente à :<br>\n",
    "    <em>\n",
    "    def sansnom(liste):<br>\n",
    "        &nbsp;&nbsp;&nbsp;&nbsp;  return liste[1]<br></em>\n",
    "    on remarque qu'avec le mot clé lambda, la syntaxe est simplifiée : pas de mot clé def et return et pas de nom.<br>\n",
    "    Elle renvoie donc pour chaque élément de la liste le second item<br>\n",
    "   <em> (rappel : les indices commencent à zéro donc 1 est le deuxième)</em></li>\n",
    "<li>reverse=True : indique qu'il faut trier dans l'ordre décroissant   </li> \n",
    "</ul>\n",
    "</div>"
   ]
  },
  {
   "cell_type": "code",
   "execution_count": 5,
   "metadata": {},
   "outputs": [
    {
     "name": "stdout",
     "output_type": "stream",
     "text": [
      "[['lingot', 10, 1], ['smartTV', 4, 8], ['Imac', 3, 6], ['masque', 3, 1]]\n"
     ]
    }
   ],
   "source": [
    "def tri_valeur(liste):\n",
    "    return liste.sort(key=lambda liste: liste[1], reverse=True )\n",
    "\n",
    "tri_valeur(liste_objets)\n",
    "print(liste_objets)"
   ]
  },
  {
   "cell_type": "code",
   "execution_count": 6,
   "metadata": {},
   "outputs": [],
   "source": [
    "def sac_a_dos(liste_objets, masse_disponible):\n",
    "    tri_valeur(liste_objets)                      # on trie les objets par valeur\n",
    "    objets_sac = []                               # tableau contenant les objets du sac\n",
    "    masse_sac = 0                                \n",
    "    valeur_sac = 0\n",
    "    for objet in liste_objets:                    # pour chacun des objets disponibles\n",
    "        if objet[2] <= masse_disponible:          # si la masse de l'objet est inférieure à la masse encvore disponible\n",
    "            objets_sac.append(objet)              # on ajoute l'objet dans le sac\n",
    "            masse_disponible -= objet[2]          # la masse disponible est dimunée de la masse de l'objet ajouté\n",
    "            masse_sac += objet[2]                 # la masse du sac est augmentée de la masse de l'objet\n",
    "            valeur_sac+=objet[1]                  # la valeur du sac est augmentée de la valeur de l'objet \n",
    "    return objets_sac,valeur_sac,masse_sac"
   ]
  },
  {
   "cell_type": "code",
   "execution_count": 7,
   "metadata": {},
   "outputs": [
    {
     "name": "stdout",
     "output_type": "stream",
     "text": [
      "([['lingot', 10, 1], ['Imac', 3, 6], ['masque', 3, 1]], 16, 8)\n"
     ]
    }
   ],
   "source": [
    "print (sac_a_dos(liste_objets,8))"
   ]
  },
  {
   "cell_type": "code",
   "execution_count": 8,
   "metadata": {},
   "outputs": [
    {
     "name": "stdout",
     "output_type": "stream",
     "text": [
      "([['lingot', 10, 1], ['smartTV', 4, 8], ['Imac', 3, 6]], 17, 15)\n"
     ]
    }
   ],
   "source": [
    "print (sac_a_dos(liste_objets,15))"
   ]
  },
  {
   "cell_type": "code",
   "execution_count": 9,
   "metadata": {},
   "outputs": [
    {
     "name": "stdout",
     "output_type": "stream",
     "text": [
      "([['lingot', 10, 1], ['masque', 3, 1]], 13, 2)\n"
     ]
    }
   ],
   "source": [
    "print (sac_a_dos(liste_objets,4))"
   ]
  },
  {
   "cell_type": "markdown",
   "metadata": {},
   "source": [
    "### c.seconde stratégie\n",
    "<div style=\"font-size:1.3em\">\n",
    "   Dans l'algorithme, il faut trier les objets selon les rapports valeur/masse.\n",
    "La fonction tri_valeur_sur_masse ci-dessous le fait facilement.\n",
    "Il suffit de modifier la fonction lambda.\n",
    "   </div>"
   ]
  },
  {
   "cell_type": "code",
   "execution_count": 10,
   "metadata": {},
   "outputs": [
    {
     "name": "stdout",
     "output_type": "stream",
     "text": [
      "[['lingot', 10, 1], ['masque', 3, 1], ['smartTV', 4, 8], ['Imac', 3, 6]]\n"
     ]
    }
   ],
   "source": [
    "\n",
    "def tri_valeur_sur_masse(liste):\n",
    "    return liste.sort(key=lambda liste: liste[1]/liste[2], reverse=True )\n",
    "\n",
    "tri_valeur_sur_masse(liste_objets)\n",
    "print(liste_objets)"
   ]
  },
  {
   "cell_type": "code",
   "execution_count": 11,
   "metadata": {},
   "outputs": [
    {
     "name": "stdout",
     "output_type": "stream",
     "text": [
      "([['lingot', 10, 1], ['masque', 3, 1], ['Imac', 3, 6]], 16, 8)\n"
     ]
    }
   ],
   "source": [
    "print (sac_a_dos(liste_objets,8))"
   ]
  },
  {
   "cell_type": "code",
   "execution_count": 12,
   "metadata": {},
   "outputs": [
    {
     "name": "stdout",
     "output_type": "stream",
     "text": [
      "([['lingot', 10, 1], ['smartTV', 4, 8], ['masque', 3, 1]], 17, 10)\n"
     ]
    }
   ],
   "source": [
    "print (sac_a_dos(liste_objets,15))"
   ]
  },
  {
   "cell_type": "code",
   "execution_count": 13,
   "metadata": {},
   "outputs": [
    {
     "name": "stdout",
     "output_type": "stream",
     "text": [
      "([['lingot', 10, 1], ['masque', 3, 1]], 13, 2)\n"
     ]
    }
   ],
   "source": [
    "print (sac_a_dos(liste_objets,4))"
   ]
  },
  {
   "cell_type": "markdown",
   "metadata": {},
   "source": [
    "### d. comparaison des stratégie\n",
    "<div style=\"font-size:1.3em\">\n",
    "La <b>première stratégie</b> donne pour un sac pouvant accepter 15 kg: <br>\n",
    "lingot, smartTV, Imac soit une valeur de 17000€ pour  15kg<br>\n",
    "alors que la <b>seconde</b> donne :<br>\n",
    "lingot, smartTV,masque soit une valeur de 17000€ pour 10 kg<br>\n",
    "<br>\n",
    "<b>Dans ce cas, la seconde stratégie est la meilleure.</b>\n",
    "</div>"
   ]
  },
  {
   "cell_type": "markdown",
   "metadata": {},
   "source": [
    "## 3. Sac à dos avec un échantillon plus grand"
   ]
  },
  {
   "cell_type": "code",
   "execution_count": 14,
   "metadata": {},
   "outputs": [
    {
     "name": "stdout",
     "output_type": "stream",
     "text": [
      "[['A', 6, 20], ['B', 8, 30], ['C', 14, 50], ['D', 6, 20], ['E', 13, 40], ['F', 17, 60], ['G', 10, 30], ['H', 4, 10], ['I', 5, 14], ['J', 11, 36], ['K', 26, 72], ['L', 35, 86], ['M', 2, 5], ['N', 1, 3], ['O', 2, 7], ['P', 7, 23], ['Q', 15, 49], ['R', 17, 57], ['S', 30, 69], ['T', 3, 12]]\n"
     ]
    }
   ],
   "source": [
    "liste_objets=[\n",
    "    [\"A\",6,20],[\"B\",8,30],[\"C\",14,50],[\"D\",6,20],[\"E\",13,40],[\"F\",17,60],[\"G\",10,30],\n",
    "    [\"H\",4,10],[\"I\",5,14],[\"J\",11,36],[\"K\",26,72],[\"L\",35,86],[\"M\",2,5],[\"N\",1,3],\n",
    "    [\"O\",2,7],[\"P\",7,23],[\"Q\",15,49],[\"R\",17,57], [\"S\",30,69], [\"T\",3,12]\n",
    "]\n",
    "print(liste_objets)"
   ]
  },
  {
   "cell_type": "markdown",
   "metadata": {},
   "source": [
    "### a.première stratégie"
   ]
  },
  {
   "cell_type": "code",
   "execution_count": 15,
   "metadata": {},
   "outputs": [
    {
     "name": "stdout",
     "output_type": "stream",
     "text": [
      "[['L', 35, 86], ['S', 30, 69], ['K', 26, 72], ['F', 17, 60], ['R', 17, 57], ['Q', 15, 49], ['C', 14, 50], ['E', 13, 40], ['J', 11, 36], ['G', 10, 30], ['B', 8, 30], ['P', 7, 23], ['A', 6, 20], ['D', 6, 20], ['I', 5, 14], ['H', 4, 10], ['T', 3, 12], ['M', 2, 5], ['O', 2, 7], ['N', 1, 3]]\n"
     ]
    }
   ],
   "source": [
    "tri_valeur(liste_objets)\n",
    "print(liste_objets)"
   ]
  },
  {
   "cell_type": "code",
   "execution_count": 16,
   "metadata": {},
   "outputs": [
    {
     "name": "stdout",
     "output_type": "stream",
     "text": [
      "([['I', 5, 14]], 5, 14)\n"
     ]
    }
   ],
   "source": [
    "print (sac_a_dos(liste_objets,15))"
   ]
  },
  {
   "cell_type": "code",
   "execution_count": 17,
   "metadata": {},
   "outputs": [
    {
     "name": "stdout",
     "output_type": "stream",
     "text": [
      "([['A', 6, 20]], 6, 20)\n"
     ]
    }
   ],
   "source": [
    "print (sac_a_dos(liste_objets,21))"
   ]
  },
  {
   "cell_type": "code",
   "execution_count": 18,
   "metadata": {},
   "outputs": [
    {
     "name": "stdout",
     "output_type": "stream",
     "text": [
      "([['E', 13, 40], ['M', 2, 5], ['N', 1, 3]], 16, 48)\n"
     ]
    }
   ],
   "source": [
    "print (sac_a_dos(liste_objets,48))"
   ]
  },
  {
   "cell_type": "code",
   "execution_count": 19,
   "metadata": {},
   "outputs": [
    {
     "name": "stdout",
     "output_type": "stream",
     "text": [
      "([['L', 35, 86], ['N', 1, 3]], 36, 89)\n"
     ]
    }
   ],
   "source": [
    "print (sac_a_dos(liste_objets,90))"
   ]
  },
  {
   "cell_type": "code",
   "execution_count": 20,
   "metadata": {},
   "outputs": [
    {
     "name": "stdout",
     "output_type": "stream",
     "text": [
      "([['L', 35, 86], ['S', 30, 69], ['K', 26, 72], ['F', 17, 60], ['R', 17, 57], ['Q', 15, 49], ['C', 14, 50], ['E', 13, 40], ['J', 11, 36], ['G', 10, 30], ['B', 8, 30], ['P', 7, 23], ['A', 6, 20], ['D', 6, 20], ['I', 5, 14], ['H', 4, 10], ['T', 3, 12], ['M', 2, 5], ['O', 2, 7]], 231, 690)\n"
     ]
    }
   ],
   "source": [
    "print (sac_a_dos(liste_objets,692))"
   ]
  },
  {
   "cell_type": "markdown",
   "metadata": {},
   "source": [
    "### b.deuxième statégie"
   ]
  },
  {
   "cell_type": "code",
   "execution_count": 21,
   "metadata": {},
   "outputs": [
    {
     "name": "stdout",
     "output_type": "stream",
     "text": [
      "[['S', 30, 69], ['L', 35, 86], ['H', 4, 10], ['M', 2, 5], ['K', 26, 72], ['I', 5, 14], ['G', 10, 30], ['N', 1, 3], ['E', 13, 40], ['Q', 15, 49], ['J', 11, 36], ['P', 7, 23], ['A', 6, 20], ['D', 6, 20], ['R', 17, 57], ['O', 2, 7], ['F', 17, 60], ['C', 14, 50], ['B', 8, 30], ['T', 3, 12]]\n"
     ]
    }
   ],
   "source": [
    "tri_valeur_sur_masse(liste_objets)\n",
    "print(liste_objets)"
   ]
  },
  {
   "cell_type": "code",
   "execution_count": 22,
   "metadata": {},
   "outputs": [
    {
     "name": "stdout",
     "output_type": "stream",
     "text": [
      "([['I', 5, 14]], 5, 14)\n"
     ]
    }
   ],
   "source": [
    "print (sac_a_dos(liste_objets,15))"
   ]
  },
  {
   "cell_type": "code",
   "execution_count": 23,
   "metadata": {},
   "outputs": [
    {
     "name": "stdout",
     "output_type": "stream",
     "text": [
      "([['A', 6, 20]], 6, 20)\n"
     ]
    }
   ],
   "source": [
    "print (sac_a_dos(liste_objets,21))"
   ]
  },
  {
   "cell_type": "code",
   "execution_count": 24,
   "metadata": {},
   "outputs": [
    {
     "name": "stdout",
     "output_type": "stream",
     "text": [
      "([['E', 13, 40], ['M', 2, 5], ['N', 1, 3]], 16, 48)\n"
     ]
    }
   ],
   "source": [
    "print (sac_a_dos(liste_objets,48))"
   ]
  },
  {
   "cell_type": "code",
   "execution_count": 25,
   "metadata": {},
   "outputs": [
    {
     "name": "stdout",
     "output_type": "stream",
     "text": [
      "([['L', 35, 86], ['N', 1, 3]], 36, 89)\n"
     ]
    }
   ],
   "source": [
    "print (sac_a_dos(liste_objets,90))"
   ]
  },
  {
   "cell_type": "code",
   "execution_count": 26,
   "metadata": {},
   "outputs": [
    {
     "name": "stdout",
     "output_type": "stream",
     "text": [
      "([['L', 35, 86], ['S', 30, 69], ['K', 26, 72], ['R', 17, 57], ['F', 17, 60], ['Q', 15, 49], ['C', 14, 50], ['E', 13, 40], ['J', 11, 36], ['G', 10, 30], ['B', 8, 30], ['P', 7, 23], ['A', 6, 20], ['D', 6, 20], ['I', 5, 14], ['H', 4, 10], ['T', 3, 12], ['M', 2, 5], ['O', 2, 7]], 231, 690)\n"
     ]
    }
   ],
   "source": [
    "print (sac_a_dos(liste_objets,692))"
   ]
  },
  {
   "cell_type": "markdown",
   "metadata": {},
   "source": [
    "### c.comparaison des deux méthodes\n",
    "<div style=\"font-size:1.3em\">\n",
    "<table>\n",
    "     <tr><th>Masse du sac</th><th colspan=2>Première stratégie</th><th colspan=2>Deuxième stratégie</th></tr>\n",
    "    <tr><th></th><th>Valeur</th><th>Masse</th><th>Valeur</th><th>Masse</th></tr>\n",
    "     <tr><td>15</td><td style=\"color:red\">5</td><td style=\"color:red\">14</td><td style=\"color:green\">6</td><td style=\"color:green\">15</td></tr>\n",
    "     <tr><td>21</td><td style=\"color:red\">6</td><td style=\"color:red\">20</td><td style=\"color:green\">7</td><td style=\"color:green\">18</td></tr>\n",
    "     <tr><td>48</td><td style=\"color:green\">16</td><td style=\"color:green\">48</td><td style=\"color:red\">14</td><td style=\"color:red\">39</td></tr>\n",
    "     <tr><td>90</td><td style=\"color:red\">36</td><td style=\"color:red\">89</td><td style=\"color:green\">37</td><td style=\"color:green\">87</td></tr>\n",
    "     <tr><td>692</td><td style=\"color:green\">231</td><td  style=\"color:green\">690</td><td style=\"color:red\">229</td><td style=\"color:red\">681</td></tr>\n",
    "</table>    \n",
    "En vert, la meilleure des solutions et en rouge la moins bonne.<br>\n",
    " <br>   <u> Conclusion</u> :<br> Aucune des deux méthodes ne donnent dans tous les cas la solution idéale.<br>\n",
    "Nous verrons donc en Terminale une autre approche de ce problème pour obtenir dans tous les cas la meilleure solution.\n",
    " </div>"
   ]
  }
 ],
 "metadata": {
  "kernelspec": {
   "display_name": "Python 3",
   "language": "python",
   "name": "python3"
  },
  "language_info": {
   "codemirror_mode": {
    "name": "ipython",
    "version": 3
   },
   "file_extension": ".py",
   "mimetype": "text/x-python",
   "name": "python",
   "nbconvert_exporter": "python",
   "pygments_lexer": "ipython3",
   "version": "3.7.1"
  }
 },
 "nbformat": 4,
 "nbformat_minor": 2
}
