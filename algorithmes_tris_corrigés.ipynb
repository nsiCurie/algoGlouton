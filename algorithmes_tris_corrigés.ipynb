{
 "cells": [
  {
   "cell_type": "markdown",
   "metadata": {},
   "source": [
    "# TRIS\n",
    "## Tri par sélection\n",
    "\n",
    "Pour chaque carte jusqu'à l'a dernière<br>\n",
    "    on mémorise son index comme étant celui de la plus petite carte<br>\n",
    "    pour chaque carte suivant celle regardée jusqu'à la dernière<br>\n",
    "        si la carte observée est plus petite que la carte mémorisée<br>\n",
    "            le nouvel index mémorisée est celui de la carte observée<br>\n",
    "    si l'index mémorisé n'est pas égal à l'index de la carte en cours, on en a trouvé une plus petite<br>\n",
    "        on permute\n",
    "\n"
   ]
  },
  {
   "cell_type": "code",
   "execution_count": 33,
   "metadata": {},
   "outputs": [],
   "source": [
    "def tri_selection(tableau):\n",
    "    '''fonction qui trie un tableau par sélection'''\n",
    "    '''prend un tableau en paramètre et renvoie le tableau trié dans l'ordre croissant'''\n",
    "    for i in range(len(tableau)):\n",
    "        mini=i \n",
    "        for j in range(i+1,len(tableau)):\n",
    "            if tableau[j]<tableau[mini]:\n",
    "                  mini=j\n",
    "        if mini!=i:\n",
    "            tableau[mini],tableau[i]= tableau[i],tableau[mini]\n",
    "    return tableau"
   ]
  },
  {
   "cell_type": "markdown",
   "metadata": {},
   "source": [
    "## Tri par insertion\n",
    "Pour chaque carte jusqu'à la derniere<br>\n",
    "     mémoriser la carte<br>\n",
    "     décaler vers la droite les cartes précédente qui sont plus grandes en partant de la fin<br>\n",
    "     placer la carte \"trou\" laissé par le décalage<br>\n",
    "          "
   ]
  },
  {
   "cell_type": "code",
   "execution_count": 34,
   "metadata": {},
   "outputs": [],
   "source": [
    "def tri_insertion(tableau):\n",
    "    for i in range(1,len(tableau)):\n",
    "        memo=tableau[i]\n",
    "        j=i\n",
    "        while j>0 and tableau[j-1]>memo:\n",
    "            tableau[j]=tableau[j-1]\n",
    "            j=j-1\n",
    "        tableau[j]=memo\n",
    "    return tableau       "
   ]
  },
  {
   "cell_type": "markdown",
   "metadata": {},
   "source": [
    "## Test des tris"
   ]
  },
  {
   "cell_type": "code",
   "execution_count": 37,
   "metadata": {},
   "outputs": [
    {
     "name": "stdout",
     "output_type": "stream",
     "text": [
      "Tri par Sélection du tableau 1\n",
      "[23, 49, 72, 67, 84, 100, 90, 63, 17, 76, 96, 66, 53, 18, 92, 3, 4, 56, 43, 44, 0, 86, 82, 80, 83, 99, 2, 75, 59, 68, 24, 64, 57, 41, 21, 5, 69, 98, 36, 20, 8, 26, 58, 32, 95, 55, 79, 81, 85, 9, 46, 33, 34, 6, 97, 35, 31, 93, 19, 91, 15, 42, 45, 13, 48, 30, 39, 12, 50, 47, 74, 87, 38, 10, 73, 62, 1, 88, 65, 51, 77, 25, 28, 29, 27, 7, 11, 89, 60, 54, 40, 71, 22, 52, 14, 37, 70, 61, 78, 16, 94]\n",
      "[0, 1, 2, 3, 4, 5, 6, 7, 8, 9, 10, 11, 12, 13, 14, 15, 16, 17, 18, 19, 20, 21, 22, 23, 24, 25, 26, 27, 28, 29, 30, 31, 32, 33, 34, 35, 36, 37, 38, 39, 40, 41, 42, 43, 44, 45, 46, 47, 48, 49, 50, 51, 52, 53, 54, 55, 56, 57, 58, 59, 60, 61, 62, 63, 64, 65, 66, 67, 68, 69, 70, 71, 72, 73, 74, 75, 76, 77, 78, 79, 80, 81, 82, 83, 84, 85, 86, 87, 88, 89, 90, 91, 92, 93, 94, 95, 96, 97, 98, 99, 100]\n",
      "Tri par Insertion du tableau 2\n",
      "[23, 49, 72, 67, 84, 100, 90, 63, 17, 76, 96, 66, 53, 18, 92, 3, 4, 56, 43, 44, 0, 86, 82, 80, 83, 99, 2, 75, 59, 68, 24, 64, 57, 41, 21, 5, 69, 98, 36, 20, 8, 26, 58, 32, 95, 55, 79, 81, 85, 9, 46, 33, 34, 6, 97, 35, 31, 93, 19, 91, 15, 42, 45, 13, 48, 30, 39, 12, 50, 47, 74, 87, 38, 10, 73, 62, 1, 88, 65, 51, 77, 25, 28, 29, 27, 7, 11, 89, 60, 54, 40, 71, 22, 52, 14, 37, 70, 61, 78, 16, 94]\n",
      "[0, 1, 2, 3, 4, 5, 6, 7, 8, 9, 10, 11, 12, 13, 14, 15, 16, 17, 18, 19, 20, 21, 22, 23, 24, 25, 26, 27, 28, 29, 30, 31, 32, 33, 34, 35, 36, 37, 38, 39, 40, 41, 42, 43, 44, 45, 46, 47, 48, 49, 50, 51, 52, 53, 54, 55, 56, 57, 58, 59, 60, 61, 62, 63, 64, 65, 66, 67, 68, 69, 70, 71, 72, 73, 74, 75, 76, 77, 78, 79, 80, 81, 82, 83, 84, 85, 86, 87, 88, 89, 90, 91, 92, 93, 94, 95, 96, 97, 98, 99, 100]\n"
     ]
    }
   ],
   "source": [
    "import random\n",
    "#on crée un tableau des entiers de 0 à 100\n",
    "tableau=[x for x in range(0,101)]\n",
    "tableau=tableau\n",
    "# on le mélange\n",
    "random.shuffle(tableau)\n",
    "#copie du tableau\n",
    "tableau1=tableau.copy()\n",
    "tableau2=tableau.copy()\n",
    "#on le tri par sélection\n",
    "print(\"Tri par Sélection du tableau 1\")\n",
    "print(tableau1)\n",
    "print(tri_selection(tableau1))\n",
    "#on le trie par insertion\n",
    "print(\"Tri par Insertion du tableau 2\")\n",
    "print(tableau2)\n",
    "print(tri_selection(tableau1))"
   ]
  }
 ],
 "metadata": {
  "kernelspec": {
   "display_name": "Python 3",
   "language": "python",
   "name": "python3"
  },
  "language_info": {
   "codemirror_mode": {
    "name": "ipython",
    "version": 3
   },
   "file_extension": ".py",
   "mimetype": "text/x-python",
   "name": "python",
   "nbconvert_exporter": "python",
   "pygments_lexer": "ipython3",
   "version": "3.7.1"
  }
 },
 "nbformat": 4,
 "nbformat_minor": 2
}
